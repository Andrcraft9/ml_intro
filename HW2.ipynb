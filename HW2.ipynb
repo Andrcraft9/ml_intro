{
 "cells": [
  {
   "cell_type": "markdown",
   "metadata": {},
   "source": [
    "# Домашнее задание № 2\n",
    "## Дедлайн &mdash; 2 AM 16 ноября 2017"
   ]
  },
  {
   "cell_type": "markdown",
   "metadata": {},
   "source": [
    "## Задача 1. ALS vs градиентный спуск"
   ]
  },
  {
   "cell_type": "markdown",
   "metadata": {
    "collapsed": true
   },
   "source": [
    "### 1: Сгенерируйте случайную малоранговую матрицу $X$ размером $1000 \\times 1000$ и ранга $100$\n",
    "### 2: Решите следующую задачу оптимизации с помощью градиентного спуска (GD) по параметрам $U, V$ и с помощью метода ALS (Alternating Least Squares)\n",
    "### $$ \\min_{U, V} \\| X - U^{\\top}V\\|^2_F $$"
   ]
  },
  {
   "cell_type": "markdown",
   "metadata": {},
   "source": [
    "#### ALS\n",
    "Метод ALS заключается в следующем:\n",
    "\n",
    "-задаётся начальное приближение $U_0$ и $V_0$\n",
    "    \n",
    "-фиксируется $U$ и ищется минимум по переменной $V$ соответственно\n",
    "    \n",
    "-фиксируется найденное значение $V$ и оптимизируется значение $U$\n",
    "    \n",
    "-и так далее до сходимости"
   ]
  },
  {
   "cell_type": "markdown",
   "metadata": {},
   "source": [
    "#### Адаптивный шаг для метода GD\n",
    "Для GD с адаптивным шагом использовалась формула:\n",
    "\n",
    "$$ F(x_{k+1}) \\le F(x_{k}) - \\epsilon  a_k  || \\nabla F(x_k) ||^2 $$\n",
    "\n",
    "Шаг GD $a_k$ умножается на $\\delta$, пока это формула не будет удовлетворяться.\n",
    "\n",
    "$\\epsilon$, $\\delta$ это фиксированные параметры.\n",
    "\n",
    "ref: http://www.machinelearning.ru/wiki/index.php?title=%D0%9C%D0%B5%D1%82%D0%BE%D0%B4_%D0%B3%D1%80%D0%B0%D0%B4%D0%B8%D0%B5%D0%BD%D1%82%D0%BD%D0%BE%D0%B3%D0%BE_%D1%81%D0%BF%D1%83%D1%81%D0%BA%D0%B0\n"
   ]
  },
  {
   "cell_type": "markdown",
   "metadata": {},
   "source": [
    "#### Градиенты функционала\n",
    "$$ F(U, V) =  \\min_{U, V} \\| X - U^{\\top}V\\|^2_F $$\n",
    "Для метода GD градиенты этого функционала можно найти аналитически:\n",
    "$$ \\nabla_U F = -2 V (X^T - V^T U), \\nabla_V F = -2 U (X - U^T V) $$\n",
    "\n",
    "Для метода ALS можно аналитически найти минимум по переменной $U$ при фиксированном $V$:\n",
    "$$ U =  (V V^T)^{-1} V X^T  $$\n",
    "И минимум по переменной $V$ при фиксированной $U$.\n",
    "$$ V =  (U U^T)^{-1} U X  $$"
   ]
  },
  {
   "cell_type": "code",
   "execution_count": 36,
   "metadata": {},
   "outputs": [
    {
     "name": "stdout",
     "output_type": "stream",
     "text": [
      "Matrix and gradients are generated!\n"
     ]
    }
   ],
   "source": [
    "%matplotlib inline\n",
    "import matplotlib.pyplot as plt\n",
    "import numpy as np\n",
    "from numpy.linalg import norm\n",
    "\n",
    "def rand_matrix(n, rank):\n",
    "    mat = 0.0 * np.eye(n)\n",
    "    for i in range(rank):\n",
    "        a = np.random.randn(n).reshape(1, n)\n",
    "        b = np.random.randn(n).reshape(n, 1)\n",
    "        mat = mat + b.dot(a)\n",
    "        \n",
    "    return mat\n",
    "\n",
    "def GradientDescent(F, gradF_u, gradF_v, u0, v0, step_u0, step_v0, varyStep=False, stepDivideEps=0.95, stepEps=1e-1, eps=1e-4, maxiter=100):\n",
    "    u = u0\n",
    "    v = v0\n",
    "    uv_hist = [F(u, v)]\n",
    "    err_u = 1.0\n",
    "    err_v = 1.0\n",
    "    step_u = step_u0\n",
    "    step_v = step_v0\n",
    "    \n",
    "    n_iter = 0\n",
    "    while err_u > eps and err_v > eps and n_iter < maxiter:\n",
    "        # from previous step\n",
    "        uold = u\n",
    "        vold = v\n",
    "        \n",
    "        # Step for u\n",
    "        gradFu = gradF_u(u, v)\n",
    "        Fuvold = F(u, v)\n",
    "        u = u - step_u * gradFu\n",
    "        # Choose step_u\n",
    "        if varyStep:\n",
    "            Fuv = F(u, v)\n",
    "            err_u = norm(gradFu, 2)        \n",
    "            while Fuv > Fuvold - stepEps*step_u*(err_u**2):\n",
    "                step_u = step_u * stepDivideEps\n",
    "                Fuv = F(uold - step_u * gradFu, v)\n",
    "            # update for new step\n",
    "            u = uold - step_u * gradFu\n",
    "        \n",
    "        # Step for v\n",
    "        gradFv = gradF_v(u, v)\n",
    "        Fuvold = F(u, v)\n",
    "        v = v - step_v * gradFv\n",
    "        # Choose step_v\n",
    "        if varyStep:\n",
    "            Fuv = F(u, v)\n",
    "            err_v = norm(gradFv, 2)\n",
    "            while Fuv > Fuvold - stepEps*step_v*(err_v**2):\n",
    "                step_v = step_v * stepDivideEps\n",
    "                Fuv = F(u, vold - step_v * gradFv)\n",
    "            # update for new step\n",
    "            v = vold - step_v * gradFv\n",
    "                \n",
    "        uv_hist.append(F(u, v))\n",
    "        \n",
    "        # errors\n",
    "        err_u = norm(gradF_u(u, v), 2)\n",
    "        err_v = norm(gradF_v(u, v), 2)\n",
    "        \n",
    "        n_iter = n_iter + 1      \n",
    "\n",
    "        \n",
    "    return u, v, uv_hist, n_iter\n",
    "\n",
    "# Alternating Least Squares method\n",
    "def ALS(F, gradF_u, gradF_v, zeroGradF_u, zeroGradF_v, u0, v0, zeroGradAreGiven=True, eps=1e-4, maxiter=100):\n",
    "    u = u0\n",
    "    v = v0\n",
    "    uv_hist = [F(u, v)]\n",
    "    err_u = 1.0\n",
    "    err_v = 1.0\n",
    "    \n",
    "    n_iter = 0\n",
    "    while err_u > eps and err_v > eps and n_iter < maxiter:\n",
    "        if zeroGradAreGiven:\n",
    "            #from previous step\n",
    "            uold = u\n",
    "            vold = v\n",
    "            # v is fixed. Find u:\n",
    "            u = zeroGradF_u(v)\n",
    "            # u is fixed. Find v:\n",
    "            v = zeroGradF_v(u)\n",
    "            \n",
    "            uv_hist.append(F(u, v))\n",
    "            # errors\n",
    "            err_u = norm(uold - u, 2) / norm(u, 2)\n",
    "            err_v = norm(vold - v, 2) / norm(v, 2)\n",
    "        else:\n",
    "            # need to find u: gradF_u(u, v) = 0 and v: gradF_v(u, v) = 0, using Newton's method for example\n",
    "            print(\"...\")\n",
    "            break\n",
    "            \n",
    "        n_iter = n_iter + 1\n",
    "            \n",
    "    return u, v, uv_hist, n_iter\n",
    "\n",
    "# Generate matrix\n",
    "n, rank = 1000, 100\n",
    "\n",
    "XU = np.random.rand(rank, n)\n",
    "XV = np.random.rand(rank, n)\n",
    "X = XU.T.dot(XV)\n",
    "\n",
    "F = lambda u, v: np.linalg.norm(X - u.T.dot(v), ord='fro')\n",
    "gradF_u = lambda u, v: -2.0 * v.dot(X.T - v.T.dot(u))\n",
    "gradF_v = lambda u, v: -2.0 * u.dot(X - u.T.dot(v))\n",
    "\n",
    "# return u, where u is a solution of gradF_u(u, v) = 0, where v is fixed\n",
    "zeroGradF_u = lambda v: np.linalg.inv(v.dot(v.T)).dot(v.dot(X.T))  \n",
    "# return v, where v is a solution of gradF_v(u, v) = 0, where u is fixed\n",
    "zeroGradF_v = lambda u: np.linalg.inv(u.dot(u.T)).dot(u.dot(X))\n",
    "\n",
    "print(\"Matrix and gradients are generated!\")"
   ]
  },
  {
   "cell_type": "markdown",
   "metadata": {},
   "source": [
    "### 3: Сравните сходимость ALS и GD для этой задачи для различных размеров матриц U и V"
   ]
  },
  {
   "cell_type": "code",
   "execution_count": 37,
   "metadata": {},
   "outputs": [
    {
     "name": "stdout",
     "output_type": "stream",
     "text": [
      "GD, fixed step. iters =  100  F =  1148.01930081\n",
      "GD, adaptive step. iters =  100  F =  853.155739282\n",
      "ALS. iters =  2  F =  8.38135761693e-05\n"
     ]
    },
    {
     "data": {
      "text/plain": [
       "<matplotlib.legend.Legend at 0x7f956b7bba58>"
      ]
     },
     "execution_count": 37,
     "metadata": {},
     "output_type": "execute_result"
    },
    {
     "data": {
      "image/png": "[encoded data removed]",
      "text/plain": [
       "<matplotlib.figure.Figure at 0x7f956bf79ba8>"
      ]
     },
     "metadata": {},
     "output_type": "display_data"
    }
   ],
   "source": [
    "# Compare GD and ALS for sizes U, V equal to 100\n",
    "\n",
    "step_u_fixed = 1e-6\n",
    "step_v_fixed = 1e-6\n",
    "step_u_vary = 1.0\n",
    "step_v_vary = 1.0\n",
    "step_divide_eps = 0.95\n",
    "step_eps = 1e-6\n",
    "iters = 100\n",
    "\n",
    "r = int(rank)\n",
    "u0 = np.random.rand(r, n)\n",
    "v0 = np.random.rand(r, n)\n",
    "\n",
    "u, v, histGD, niters = GradientDescent(F, gradF_u, gradF_v, u0, v0, step_u_fixed, step_v_fixed, maxiter=iters)\n",
    "print(\"GD, fixed step. iters = \", niters, \" F = \", F(u, v))\n",
    "\n",
    "u, v, histVaryGD, niters = GradientDescent(F, gradF_u, gradF_v, u0, v0, step_u_vary, step_v_vary, varyStep=True, stepDivideEps=step_divide_eps, stepEps=step_eps, maxiter=iters)\n",
    "print(\"GD, adaptive step. iters = \", niters, \" F = \", F(u, v))\n",
    "\n",
    "u, v, histALS, niters = ALS(F, gradF_u, gradF_v, zeroGradF_u, zeroGradF_v, u0, v0, maxiter=iters)\n",
    "print(\"ALS. iters = \", niters, \" F = \", F(u, v))\n",
    "\n",
    "plt.figure(figsize=(10, 8))\n",
    "plt.plot(histGD, label=\"GD, fixed step\")\n",
    "plt.plot(histVaryGD, label=\"GD, adaptive step\")\n",
    "plt.plot(histALS, label=\"ALS\")\n",
    "plt.title(\"Compare convergence for U,V rank = \" + str(r), fontsize=14)\n",
    "plt.xlabel(\"Iteration number\", fontsize=12)\n",
    "plt.ylabel(\"F(u, v)\", fontsize=12)\n",
    "plt.legend()\n"
   ]
  },
  {
   "cell_type": "markdown",
   "metadata": {},
   "source": [
    "На графике показана сходимость методов для случая, когда размеры матриц $U$, $V$ совпадают с рангом матрицы $X$. Т.е. sizes = 100. Начальное приближение выбирается случайно.\n",
    "\n",
    "Видно, что GD сходится очень медленно. Адаптивный шаг для GD улучшает сходимость, но не намного. В то время как метод ALS сходится всего за несколько итераций. Такое поведение связано с тем, что мы выбираем начальное приближение случайно и для GD оно оказывается неудачным."
   ]
  },
  {
   "cell_type": "code",
   "execution_count": 38,
   "metadata": {},
   "outputs": [
    {
     "name": "stdout",
     "output_type": "stream",
     "text": [
      "GD, fixed step. iters =  100  F =  1002.08309207\n",
      "GD, adaptive step. iters =  100  F =  825.93961864\n",
      "ALS. iters =  77  F =  468.743463876\n"
     ]
    },
    {
     "data": {
      "text/plain": [
       "<matplotlib.legend.Legend at 0x7f957c9ddd68>"
      ]
     },
     "execution_count": 38,
     "metadata": {},
     "output_type": "execute_result"
    },
    {
     "data": {
      "image/png": "[encoded data removed]",
      "text/plain": [
       "<matplotlib.figure.Figure at 0x7f956bf49438>"
      ]
     },
     "metadata": {},
     "output_type": "display_data"
    }
   ],
   "source": [
    "# Compare GD and ALS for sizes U, V less than 100\n",
    "\n",
    "step_u_fixed = 1e-6\n",
    "step_v_fixed = 1e-6\n",
    "step_u_vary = 1.0\n",
    "step_v_vary = 1.0\n",
    "step_divide_eps = 0.95\n",
    "step_eps = 1e-6\n",
    "iters = 100\n",
    "\n",
    "r = int(rank / 2)\n",
    "u0 = np.random.rand(r, n)\n",
    "v0 = np.random.rand(r, n)\n",
    "\n",
    "u, v, histGD, niters = GradientDescent(F, gradF_u, gradF_v, u0, v0, step_u_fixed, step_v_fixed, maxiter=iters)\n",
    "print(\"GD, fixed step. iters = \", niters, \" F = \", F(u, v))\n",
    "\n",
    "u, v, histVaryGD, niters = GradientDescent(F, gradF_u, gradF_v, u0, v0, step_u_vary, step_v_vary, varyStep=True, stepDivideEps=step_divide_eps, stepEps=step_eps, maxiter=iters)\n",
    "print(\"GD, adaptive step. iters = \", niters, \" F = \", F(u, v))\n",
    "\n",
    "u, v, histALS, niters = ALS(F, gradF_u, gradF_v, zeroGradF_u, zeroGradF_v, u0, v0, maxiter=iters)\n",
    "print(\"ALS. iters = \", niters, \" F = \", F(u, v))\n",
    "\n",
    "plt.figure(figsize=(10, 8))\n",
    "plt.plot(histGD, label=\"GD, fixed step\")\n",
    "plt.plot(histVaryGD, label=\"GD, adaptive step\")\n",
    "plt.plot(histALS, label=\"ALS\")\n",
    "plt.title(\"Compare convergence for U,V rank = \" + str(r), fontsize=14)\n",
    "plt.xlabel(\"Iteration number\", fontsize=12)\n",
    "plt.ylabel(\"F(u, v)\", fontsize=12)\n",
    "plt.legend()\n"
   ]
  },
  {
   "cell_type": "markdown",
   "metadata": {},
   "source": [
    "На графике показана сходимость методов для случая, когда размеры матриц $U$, $V$ меньше ранга матрицы $X$. Т.е. sizes = 50 < 100. Начальное приближение выбирается случайно.\n",
    "\n",
    "Видно, что GD с адаптивным шагом всего за пару итераций попадает в окрестность минимума и дальше очень медленно сходится к точному значению минимума функционала. GD с фиксированным шагом за 40 итераций попадает в окрестность минимума и ведет себя аналогично. Такое поведение GD по прежнему обусловлено неудачным случайным начальным приближением. \n",
    "\n",
    "Заметим также, что количество итераций в методе ALS значительно увеличилось.\n"
   ]
  },
  {
   "cell_type": "code",
   "execution_count": 48,
   "metadata": {},
   "outputs": [
    {
     "name": "stdout",
     "output_type": "stream",
     "text": [
      "GD, fixed step. iters =  100  F =  1396.88377953\n",
      "GD, adaptive step. iters =  100  F =  741.979954187\n",
      "ALS. iters =  100  F =  25789780.3021\n"
     ]
    },
    {
     "data": {
      "text/plain": [
       "<matplotlib.legend.Legend at 0x7f956aa3b5c0>"
      ]
     },
     "execution_count": 48,
     "metadata": {},
     "output_type": "execute_result"
    },
    {
     "data": {
      "image/png": "[encoded data removed]",
      "text/plain": [
       "<matplotlib.figure.Figure at 0x7f956aa777b8>"
      ]
     },
     "metadata": {},
     "output_type": "display_data"
    }
   ],
   "source": [
    "# Compare GD and ALS for size U, V greater than 100\n",
    "\n",
    "step_u_fixed = 1e-6\n",
    "step_v_fixed = 1e-6\n",
    "step_u_vary = 1.0\n",
    "step_v_vary = 1.0\n",
    "step_divide_eps = 0.95\n",
    "step_eps = 1e-6\n",
    "iters = 100\n",
    "\n",
    "r = int(2 * rank)\n",
    "u0 = np.random.rand(r, n)\n",
    "v0 = np.random.rand(r, n)\n",
    "\n",
    "u, v, histGD, niters = GradientDescent(F, gradF_u, gradF_v, u0, v0, step_u_fixed, step_v_fixed, maxiter=iters)\n",
    "print(\"GD, fixed step. iters = \", niters, \" F = \", F(u, v))\n",
    "\n",
    "u, v, histVaryGD, niters = GradientDescent(F, gradF_u, gradF_v, u0, v0, step_u_vary, step_v_vary, varyStep=True, stepDivideEps=step_divide_eps, stepEps=step_eps, maxiter=iters)\n",
    "print(\"GD, adaptive step. iters = \", niters, \" F = \", F(u, v))\n",
    "\n",
    "u, v, histALS, niters = ALS(F, gradF_u, gradF_v, zeroGradF_u, zeroGradF_v, u0, v0, maxiter=iters)\n",
    "print(\"ALS. iters = \", niters, \" F = \", F(u, v))\n",
    "\n",
    "plt.figure(figsize=(10, 8))\n",
    "plt.plot(histGD, label=\"GD, fixed step\")\n",
    "plt.plot(histVaryGD, label=\"GD, adaptive step\")\n",
    "plt.plot(histALS, label=\"ALS\")\n",
    "plt.title(\"Compare convergence for U,V rank = \" + str(r), fontsize=14)\n",
    "plt.xlabel(\"Iteration number\", fontsize=12)\n",
    "plt.ylabel(\"F(u, v)\", fontsize=12)\n",
    "plt.ylim(0, 50000)\n",
    "plt.legend()\n"
   ]
  },
  {
   "cell_type": "markdown",
   "metadata": {},
   "source": [
    "На графике показана сходимость методов для случая, когда размеры матриц $U$, $V$ больше ранга матрицы $X$. Т.е. sizes = 200 > 100. Начальное приближение выбирается случайно.\n",
    "\n",
    "Видно, что в этом случае ALS может и расходится.\n"
   ]
  },
  {
   "cell_type": "markdown",
   "metadata": {},
   "source": [
    "### 4: Исследуйте зависимость от начального приближения и объясните её"
   ]
  },
  {
   "cell_type": "code",
   "execution_count": 47,
   "metadata": {},
   "outputs": [
    {
     "name": "stdout",
     "output_type": "stream",
     "text": [
      "||u0 - u|| and ||v0 - v||, where u, v - solutions:  9.99999999996e-06 1e-05\n",
      "||u0 - u|| and ||v0 - v||, where u, v - solutions:  9.99999999996e-07 9.99999999998e-07\n",
      "||u0 - u|| and ||v0 - v||, where u, v - solutions:  1.0000000001e-07 9.9999999973e-08\n",
      "||u0 - u|| and ||v0 - v||, where u, v - solutions:  9.99999997873e-09 9.99999998033e-09\n",
      "||u0 - u|| and ||v0 - v||, where u, v - solutions:  1.00000004033e-09 1.00000001238e-09\n"
     ]
    },
    {
     "data": {
      "text/plain": [
       "<matplotlib.legend.Legend at 0x7f956acb2898>"
      ]
     },
     "execution_count": 47,
     "metadata": {},
     "output_type": "execute_result"
    },
    {
     "data": {
      "image/png": "[encoded data removed]",
      "text/plain": [
       "<matplotlib.figure.Figure at 0x7f956b1697f0>"
      ]
     },
     "metadata": {},
     "output_type": "display_data"
    }
   ],
   "source": [
    "# How depends from initional values u0, v0?\n",
    "\n",
    "step_u_fixed = 1e-6\n",
    "step_v_fixed = 1e-6\n",
    "step_u_vary = 1.0\n",
    "step_v_vary = 1.0\n",
    "step_divide_eps = 0.8\n",
    "step_eps = 1e-6\n",
    "iters = 100\n",
    "\n",
    "r = int(rank)\n",
    "err_UV = []\n",
    "niters_GD = []\n",
    "niters_VaryGD = []\n",
    "niters_ALS = []\n",
    "for i in range(5, 10):\n",
    "    u0 = np.random.rand(r, n)\n",
    "    v0 = np.random.rand(r, n)\n",
    "\n",
    "    u0 = XU + u0 * (10.0**(-i) / norm(u0, 2))\n",
    "    v0 = XV + v0 * (10.0**(-i) / norm(v0, 2))\n",
    "    err_UV.append(10.0**(-i))\n",
    "    print(\"||u0 - u|| and ||v0 - v||, where u, v - solutions: \", norm(u0 - XU, 2), norm(v0 - XV, 2))\n",
    "    \n",
    "    u, v, histGD, niters = GradientDescent(F, gradF_u, gradF_v, u0, v0, step_u_fixed, step_v_fixed, maxiter=iters)\n",
    "    niters_GD.append(niters)\n",
    "    \n",
    "    u, v, histVaryGD, niters = GradientDescent(F, gradF_u, gradF_v, u0, v0, step_u_vary, step_v_vary, varyStep=True, stepDivideEps=step_divide_eps, stepEps=step_eps, maxiter=iters)\n",
    "    niters_VaryGD.append(niters)\n",
    "    \n",
    "    u, v, histALS, niters = ALS(F, gradF_u, gradF_v, zeroGradF_u, zeroGradF_v, u0, v0, maxiter=iters)\n",
    "    niters_ALS.append(niters)\n",
    "  \n",
    "plt.figure(figsize=(10, 8))\n",
    "plt.plot(err_UV, niters_GD, label=\"GD, fixed step\")\n",
    "plt.plot(err_UV, niters_VaryGD, label=\"GD, adaptive step\")\n",
    "plt.plot(err_UV, niters_ALS, label=\"ALS\")\n",
    "plt.title(\"Convergence depending on the initial approach U0 and V0\", fontsize=14)\n",
    "plt.xlabel(\"||U0 - U|| and ||V0 - V||, where U, V - solutions:\", fontsize=12)\n",
    "plt.xscale(\"log\")\n",
    "plt.ylabel(\"Iterations\", fontsize=12)\n",
    "plt.legend()"
   ]
  },
  {
   "cell_type": "markdown",
   "metadata": {},
   "source": [
    "На графике показано зависимость количества итераций методов от \"близости\" (по норме) начального приближения к решению задачи.\n",
    "\n",
    "Чем ближе начальное приближение к решению задачи - тем требуется меньше итераций для метода GD. Это видно из графика.\n",
    "Для быстрой сходимости GD важно попасть приближением рядом с решением задачи. Иначе алгоритм может сходится гораздо дольше."
   ]
  },
  {
   "cell_type": "markdown",
   "metadata": {},
   "source": [
    "### 5: Рассмотрите различные способы выбора шага в градиентном спуске и сделайте вывод о применимости каждого из них"
   ]
  },
  {
   "cell_type": "code",
   "execution_count": 52,
   "metadata": {},
   "outputs": [
    {
     "name": "stdout",
     "output_type": "stream",
     "text": [
      "GD, fixed step. iters =  5  F =  inf\n",
      "GD, adaptive step. iters =  10  F =  1115.75164996\n"
     ]
    },
    {
     "data": {
      "text/plain": [
       "<matplotlib.legend.Legend at 0x7f956a7e1518>"
      ]
     },
     "execution_count": 52,
     "metadata": {},
     "output_type": "execute_result"
    },
    {
     "data": {
      "image/png": "[encoded data removed]",
      "text/plain": [
       "<matplotlib.figure.Figure at 0x7f956a9dc390>"
      ]
     },
     "metadata": {},
     "output_type": "display_data"
    }
   ],
   "source": [
    "# GD: Fixed step vs Adaptive step\n",
    "\n",
    "step_u_fixed = 1e-4\n",
    "step_v_fixed = 1e-4\n",
    "step_u_vary = 1.0\n",
    "step_v_vary = 1.0\n",
    "step_divide_eps = 0.8\n",
    "step_eps = 1e-6\n",
    "iters = 10\n",
    "\n",
    "r = int(rank)\n",
    "u0 = np.random.rand(r, n)\n",
    "v0 = np.random.rand(r, n)\n",
    "\n",
    "u, v, histGD, niters = GradientDescent(F, gradF_u, gradF_v, u0, v0, step_u_fixed, step_v_fixed, maxiter=iters)\n",
    "print(\"GD, fixed step. iters = \", niters, \" F = \", F(u, v))\n",
    "\n",
    "u, v, histVaryGD, niters = GradientDescent(F, gradF_u, gradF_v, u0, v0, step_u_vary, step_v_vary, varyStep=True, stepDivideEps=step_divide_eps, stepEps=step_eps, maxiter=iters)\n",
    "print(\"GD, adaptive step. iters = \", niters, \" F = \", F(u, v))\n",
    "\n",
    "plt.figure(figsize=(10, 8))\n",
    "plt.plot(histGD, label=\"GD, fixed step\")\n",
    "plt.plot(histVaryGD, label=\"GD, adaptive step\")\n",
    "plt.title(\"Convergence for GD\", fontsize=14)\n",
    "plt.xlabel(\"Iteration number\", fontsize=12)\n",
    "plt.ylabel(\"F(u, v)\", fontsize=12)\n",
    "plt.ylim(0, 10000)\n",
    "plt.legend()"
   ]
  },
  {
   "cell_type": "markdown",
   "metadata": {},
   "source": [
    "Если выбирать достаточно большой шаг, то GD с фиксированныи шагом не будет сходится. В то время как GD с адаптивным шагом - сходится, это видно на графике. \n",
    "\n",
    "GD с адаптивным шагом лучше как раз потому что он не так чувствителен к набору параметров, в отличии от GD с фиксированным шагом, который очень чувствителен к шагу."
   ]
  },
  {
   "cell_type": "markdown",
   "metadata": {},
   "source": [
    "## Задача 2. PageRank"
   ]
  },
  {
   "cell_type": "markdown",
   "metadata": {
    "collapsed": true
   },
   "source": [
    "### 1: Опишите алгоритм PageRank (введите все необходимые обозначения)\n",
    "### 2: Как связаны задачи нахождения PageRank'а и поиска максимального собственноо вектора и соответствующего ему собственного значения и почему?"
   ]
  },
  {
   "cell_type": "markdown",
   "metadata": {
    "collapsed": true
   },
   "source": [
    "#### PageRank\n",
    "Consider graph $G = (V, E)$, where $V$ is set of nodes and $E$ is of edges. Assume $V = \\{1, ..., n\\}$ and write $i \\rightarrow j$ to indicate that $(i, j) \\in E$. The graph $G$ can be described by adjacency matrix $A \\in R^{n \\times n}$, such that $A_{ij} = 1$ if $j \\rightarrow  i$ and $A_{ij} = 0$ otherwise.\n",
    "\n",
    "The original formula by S. Brin and L. Page defines PageRank vector $\\pi = (\\pi_1, ..., \\pi_n)^T$ of a graph $G$ as the solution of the following linear system:\n",
    "\n",
    "$$ \\pi_i = (1 - a) + a \\sum_{j: j \\rightarrow i} \\frac{\\pi_j}{d_j^{out}} $$\n",
    "\n",
    "where $d_j^{out}$ is a number of outgoing edges from node $j$ of a graph $G$; $a \\in (0, 1)$ is fixed constant called the damping factor, originally set to $a = 0.85$.\n",
    "\n",
    "In Matrix form:\n",
    "\n",
    "$$ (I - aM)\\pi = (1 - a)e $$\n",
    "\n",
    "where $M$ - matrix with non-negative elements (M is called link matrix) which is defined as:\n",
    "\n",
    "\\begin{equation}\n",
    "  M_{ij} = \\left\\{\n",
    "      \\begin{array}{ccc}\n",
    "          \\displaystyle{\\frac{A_{ij}}{d_j^{out}}  \\text{ if }  d_j^{out} > 0 } \\\\\n",
    "          \\displaystyle{\\frac{1}{n}  \\text{ if }  d_j^{out} = 0 } \\\\\n",
    "          \\displaystyle{0  \\text{ otherwise }}\n",
    "      \\end{array}\n",
    "      \\right.\n",
    "\\end{equation}\n",
    "\n",
    "where $A$ - is a adjacency matrix of a graph $G$.\n",
    "\n",
    "Note, that matrix $M$ is column stochastic matrix (sum of each column elements equal to 1). It is important!\n",
    "\n",
    "#### Main Theorem\n",
    "\n",
    "(as a consequence of the Perron–Frobenius theorem)\n",
    "\n",
    "Let $\\Gamma \\in R^{n \\times n}$ be the positive matrix, $0 < a < 1$:\n",
    "$$ \\Gamma = aM + \\frac{1 - a}{n} e e^T $$\n",
    "\n",
    "\n",
    "Then, $\\rho(\\Gamma) = 1$ and the vector $\\pi$ is a Perron eigenvector.\n",
    "\n",
    "$\\Gamma$ is called Google Matrix\n",
    "\n",
    "(Note: $\\rho(\\Gamma)$ the Perron eigenvalue of $\\Gamma$ and any associated positive eigenvector is a Perron eigenvector)"
   ]
  },
  {
   "cell_type": "markdown",
   "metadata": {},
   "source": [
    "Теорема выше и дает ответ на вопрос о том, как связана задача по нахождению собственного значения с PageRank. \n",
    "Из этой теоремы следует, что нам нужно найти максимальное собственное значение матрицы $\\Gamma$, которое равно единице, \n",
    "собственный вектор для этого собств. значения и будет PageRank. \n",
    "\n",
    "Максимальное собственное значение можно искать степенным методом."
   ]
  },
  {
   "cell_type": "markdown",
   "metadata": {},
   "source": [
    "#### Dangling nodes problem\n",
    "\n",
    "В общем случае матрица $A$ имеет нулевые столбцы, так называемые dangling nodes (случай когда $d_j^{out}=0$). Чтобы сделать матрицу $M$ стохастической и избежать этой проблемы, достаточно заменить все нулевые столбцы на столбцы состоящие из $\\frac{1}{n}$."
   ]
  },
  {
   "cell_type": "markdown",
   "metadata": {},
   "source": [
    "### 3: Реализуйте степенной метод нахождения максимального собственного вектора"
   ]
  },
  {
   "cell_type": "code",
   "execution_count": 1,
   "metadata": {
    "collapsed": true
   },
   "outputs": [],
   "source": [
    "%matplotlib inline\n",
    "import matplotlib.pyplot as plt\n",
    "import numpy as np\n",
    "\n",
    "import scipy.sparse as spsp\n",
    "import scipy.sparse.linalg as splinalg\n",
    "\n",
    "from scipy import linalg\n",
    "from scipy.linalg import norm\n",
    "\n",
    "def rand_matrix(n, rank):\n",
    "    mat = 0.0 * np.eye(n)\n",
    "    for i in range(rank):\n",
    "        a = np.random.randn(n).reshape(1, n)\n",
    "        b = np.random.randn(n).reshape(n, 1)\n",
    "        mat = mat + b.dot(a)\n",
    "        \n",
    "    return mat\n",
    "\n",
    "\n",
    "def PowerMethod(A, y0, eps=1e-5, maxiter=100):\n",
    "    x = y0 / norm(y0, 2)\n",
    "    l = 0.0\n",
    "    \n",
    "    err = 1.0\n",
    "    hist = [l]\n",
    "    \n",
    "    n_iter = 0\n",
    "    while err > eps and n_iter < maxiter:\n",
    "        lold = l\n",
    "        \n",
    "        y = A.dot(x)\n",
    "        x = y / norm(y, 2)\n",
    "        \n",
    "        l = x.T.dot(A.dot(x))\n",
    "        \n",
    "        err = abs(l - lold)\n",
    "        hist.append(l)\n",
    "        \n",
    "        n_iter = n_iter + 1\n",
    "        \n",
    "    return x, l, n_iter, hist\n",
    "\n",
    "# Power Method for Google matrix\n",
    "def PM_GoogleMatrix(GM, a, n, y0, eps=1e-5, maxiter=100):\n",
    "    x = y0 / norm(y0, 2)\n",
    "    l = 0.0\n",
    "    \n",
    "    err = 1.0\n",
    "    hist = [l]\n",
    "\n",
    "    n_iter = 0\n",
    "    while err > eps and n_iter < maxiter:\n",
    "        lold = l\n",
    "        \n",
    "        y = GM.matvec(x)\n",
    "        x = y / norm(y, 2)\n",
    "        l = x.T.dot(GM.matvec(x))\n",
    "        \n",
    "        err = abs(l - lold)\n",
    "        hist.append(l)\n",
    "        \n",
    "        n_iter = n_iter + 1\n",
    "       \n",
    "    return x, l, n_iter, hist"
   ]
  },
  {
   "cell_type": "code",
   "execution_count": 2,
   "metadata": {},
   "outputs": [
    {
     "name": "stdout",
     "output_type": "stream",
     "text": [
      "Iters:  71  $lambda:  3.18394195144\n",
      "Lymbdas from np.linalg.eig: \n",
      " [-2.97265019  3.18400397  2.62481172 -2.10562856  1.81633861  1.27487012\n",
      "  0.98751309 -1.27151845 -0.75979805  0.00942781]\n"
     ]
    },
    {
     "data": {
      "text/plain": [
       "<matplotlib.text.Text at 0x7f5e3e9dacc0>"
      ]
     },
     "execution_count": 2,
     "metadata": {},
     "output_type": "execute_result"
    },
    {
     "data": {
      "image/png": "[encoded data removed]",
      "text/plain": [
       "<matplotlib.figure.Figure at 0x7f5e466a79b0>"
      ]
     },
     "metadata": {},
     "output_type": "display_data"
    }
   ],
   "source": [
    "# Test for Power Method, compare with linalg.eig\n",
    "\n",
    "n = 10\n",
    "A = np.random.randn(n, n)\n",
    "# do symmetric\n",
    "A = (A + A.T) / 2.0 \n",
    "\n",
    "v0 = np.random.randn(n).reshape(n, 1)\n",
    "\n",
    "v, l, niters, hist = PowerMethod(A, v0, maxiter=1000)\n",
    "print(\"Iters: \", niters, \" $lambda: \", l[0, 0])\n",
    "\n",
    "L, V = np.linalg.eig(A)\n",
    "print(\"Lymbdas from np.linalg.eig: \\n\", L)\n",
    "\n",
    "plt.figure(figsize=(10, 8))\n",
    "plt.plot(hist)\n",
    "plt.title(\"Convergence of Power Method\", fontsize=14)\n",
    "plt.xlabel(\"Iteration number\", fontsize=12)\n",
    "plt.ylabel(\"$\\lambda_k$\", fontsize=12)\n"
   ]
  },
  {
   "cell_type": "markdown",
   "metadata": {},
   "source": [
    "На графике показана сходимость степенного метода для случайной симметричной матрицы 10 на 10."
   ]
  },
  {
   "cell_type": "markdown",
   "metadata": {},
   "source": [
    "### 4: Найдите с помощью степенного метода TOP-10 статей по величине PageRank'a по физике высоких энергий в соответствии с [графом](https://snap.stanford.edu/data/cit-HepTh.html). Результат должен быть воспроизводим, используйте разреженные матрицы для работы с матрицей смежности графа"
   ]
  },
  {
   "cell_type": "code",
   "execution_count": 27,
   "metadata": {},
   "outputs": [
    {
     "name": "stdout",
     "output_type": "stream",
     "text": [
      "Nodes:  27770 27770\n",
      "Dangling node:  2711\n",
      "Nonzero:  352807\n",
      "Building Link Matrix M is successed!\n"
     ]
    }
   ],
   "source": [
    "# Read graph and build matrix\n",
    "\n",
    "Graph = {}\n",
    "NodeMap = {}\n",
    "\n",
    "k = 0\n",
    "\n",
    "with open('Cit-HepTh.txt') as f:\n",
    "    for line in f:\n",
    "        NodeFrom, NodeTo = line.split()\n",
    "        NodeFrom, NodeTo = int(NodeFrom), int(NodeTo)\n",
    "        \n",
    "        if NodeMap.get(NodeFrom) == None:\n",
    "            NodeMap[NodeFrom] = k\n",
    "            k = k + 1\n",
    "        \n",
    "        if NodeMap.get(NodeTo) == None:\n",
    "            NodeMap[NodeTo] = k\n",
    "            k = k + 1\n",
    "        \n",
    "        if Graph.get(NodeFrom) == None:\n",
    "            Graph[NodeFrom] = [NodeTo]\n",
    "        else:\n",
    "            Graph[NodeFrom].append(NodeTo)\n",
    "\n",
    "n = len(NodeMap.values())\n",
    "print(\"Nodes: \", n, k)\n",
    "\n",
    "# link matrix\n",
    "M = spsp.lil_matrix((n, n))\n",
    "\n",
    "#for nodeFrom in Graph.keys():\n",
    "#    NodesTo = Graph[nodeFrom]\n",
    "#    d_out = len(NodesTo)\n",
    "#    \n",
    "#    for nodeTo in NodesTo:\n",
    "#        # if j->i then Aij = 1\n",
    "#        M[NodeMap[nodeTo], NodeMap[nodeFrom]] = (1.0 / d_out)\n",
    "\n",
    "dang_nodes = []\n",
    "for j in range(0, n):\n",
    "    nodeFrom = list(NodeMap.keys())[j]\n",
    "    \n",
    "    if Graph.get(nodeFrom) == None:\n",
    "        # dangling nodes\n",
    "        dang_nodes.append(j)\n",
    "        \n",
    "    else:\n",
    "        NodesTo = Graph[nodeFrom]\n",
    "        d_out = len(NodesTo)\n",
    "    \n",
    "        for nodeTo in NodesTo:\n",
    "            # if j->i then Aij = 1\n",
    "            M[NodeMap[nodeTo], NodeMap[nodeFrom]] = (1.0 / d_out)\n",
    "        \n",
    "print(\"Dangling nodes: \", len(dang_nodes))\n",
    "\n",
    "print(\"Nonzero: \", M.nnz)\n",
    "M.tocsr()\n",
    "\n",
    "print(\"Building Link Matrix M is successed!\")\n"
   ]
  },
  {
   "cell_type": "code",
   "execution_count": 39,
   "metadata": {
    "collapsed": true
   },
   "outputs": [],
   "source": [
    "# Generate Linear Operator for Google Matrix\n",
    "\n",
    "a = 0.85 # damping factor\n",
    "e = np.ones((n, 1))\n",
    "\n",
    "def GoogleMatrixMV(x):\n",
    "    return ((1.0 - a) / n) * e.dot(e.T.dot(x)) + a * M.dot(x) + a * (1.0 / n) * sum(x[dang_nodes])\n",
    "    \n",
    "GM = splinalg.LinearOperator((n, n), matvec=GoogleMatrixMV)\n",
    "\n"
   ]
  },
  {
   "cell_type": "code",
   "execution_count": 40,
   "metadata": {},
   "outputs": [
    {
     "name": "stdout",
     "output_type": "stream",
     "text": [
      "n and a:  27770 0.85\n",
      "--------------------------------------------------\n",
      "scipy sparse eigs func:  [-0.85+0.j  1.00+0.j]\n",
      "... Iters:  38  Lymbda:  1.00005353909\n"
     ]
    }
   ],
   "source": [
    "# Find Perron eigenvalue and Perron eigenvector \n",
    "\n",
    "print(\"n and a: \", n, a)\n",
    "print(\"--------------------------------------------------\")\n",
    "\n",
    "L, V = splinalg.eigs(GM, k=2, maxiter=1000)\n",
    "print(\"scipy sparse eigs func: \", L)\n",
    "\n",
    "v0 = np.abs(np.random.rand(n, 1))\n",
    "v1, l1, niters1, hist1 = PM_GoogleMatrix(GM, a, n, v0, eps=1e-5, maxiter=100)\n",
    "print(\"... Iters: \", niters1, \" Lymbda: \", l1[0, 0])\n"
   ]
  },
  {
   "cell_type": "code",
   "execution_count": 44,
   "metadata": {},
   "outputs": [
    {
     "name": "stdout",
     "output_type": "stream",
     "text": [
      "Sum of all PageRanks:  [ 27769.99999999]\n",
      "--------------------------------------------------------\n",
      "Top 10\n",
      "1 PageRank:  172.556372697  ID Node:  9207016\n",
      "2 PageRank:  168.969875625  ID Node:  9407087\n",
      "3 PageRank:  156.154402075  ID Node:  9201015\n",
      "4 PageRank:  124.12269012  ID Node:  9503124\n",
      "5 PageRank:  116.910773232  ID Node:  9510017\n",
      "6 PageRank:  106.106723263  ID Node:  9402044\n",
      "7 PageRank:  93.5220501785  ID Node:  9711200\n",
      "8 PageRank:  91.373585752  ID Node:  9410167\n",
      "9 PageRank:  86.770823566  ID Node:  9408099\n",
      "10 PageRank:  80.4118500515  ID Node:  9402002\n"
     ]
    },
    {
     "data": {
      "text/plain": [
       "<matplotlib.text.Text at 0x7f5e3996d080>"
      ]
     },
     "execution_count": 44,
     "metadata": {},
     "output_type": "execute_result"
    },
    {
     "data": {
      "image/png": "[encoded data removed]",
      "text/plain": [
       "<matplotlib.figure.Figure at 0x7f5e3c074dd8>"
      ]
     },
     "metadata": {},
     "output_type": "display_data"
    }
   ],
   "source": [
    "# Show Top 10 and show convergence\n",
    "\n",
    "#normalize v: eT * v = n\n",
    "v1 = (v1 / norm(v1, 1)) * n\n",
    "print(\"Sum of all PageRanks: \", sum(v1))\n",
    "\n",
    "#idmax = np.argmax(v1)\n",
    "#prmax = v1[idmax, 0]\n",
    "#print(\"id max and pageRank max: \", idmax, prmax)\n",
    "#print(\"ID node: \", list(NodeMap.keys())[list(NodeMap.values()).index(idmax)])\n",
    "\n",
    "print(\"--------------------------------------------------------\")\n",
    "vsort = np.argsort(v1[:,0])\n",
    "topv = vsort[-10:][::-1]\n",
    "print(\"Top 10\")\n",
    "num = 1\n",
    "for i in topv:\n",
    "    print(num, \"PageRank: \", v1[i, 0], \" ID Node: \", list(NodeMap.keys())[list(NodeMap.values()).index(i)])\n",
    "    num = num + 1\n",
    "    \n",
    "plt.figure(figsize=(10, 8))\n",
    "plt.plot(hist1)\n",
    "plt.title(\"Convergence of Power Method\", fontsize=14)\n",
    "plt.xlabel(\"Iteration number\", fontsize=12)\n",
    "plt.ylabel(\"$\\lambda_k$\", fontsize=12)\n"
   ]
  },
  {
   "cell_type": "markdown",
   "metadata": {},
   "source": [
    "### 5: Сравните теоретическую и экспериментальную сходимость степенного метода для этого графа. Нарисуйте график и объясните, почему он выглядит именно так?"
   ]
  },
  {
   "cell_type": "code",
   "execution_count": 57,
   "metadata": {},
   "outputs": [
    {
     "name": "stdout",
     "output_type": "stream",
     "text": [
      "lambda_1:  1.0  and lambda_2:  0.85\n"
     ]
    },
    {
     "data": {
      "text/plain": [
       "<matplotlib.legend.Legend at 0x7f5e3d308898>"
      ]
     },
     "execution_count": 57,
     "metadata": {},
     "output_type": "execute_result"
    },
    {
     "data": {
      "image/png": "[encoded data removed]",
      "text/plain": [
       "<matplotlib.figure.Figure at 0x7f5e3d49a0b8>"
      ]
     },
     "metadata": {},
     "output_type": "display_data"
    }
   ],
   "source": [
    "l1 = max(abs(L))\n",
    "l2 = min(abs(L))\n",
    "print(\"lambda_1: \", l1, \" and lambda_2: \", l2)\n",
    "\n",
    "plt.figure(figsize=(10, 8))\n",
    "plt.plot([abs(l1 - l) for l in hist1], label=\"experimental\")\n",
    "plt.plot([(l2/l1)**k for k in range(len(hist1))], label=\"$O(|\\lambda_2 / \\lambda_1|^k)$\")\n",
    "plt.title(\"Convergence of Power Method\", fontsize=14)\n",
    "plt.xlabel(\"Iteration number\", fontsize=12)\n",
    "plt.ylabel(\"$|\\lambda_k - \\lambda|$\", fontsize=12)\n",
    "plt.legend(fontsize=14)"
   ]
  },
  {
   "cell_type": "markdown",
   "metadata": {},
   "source": [
    "Теоретическая сходимость степенного метода определяется как:\n",
    "\n",
    "$$ |\\lambda_1 - \\lambda_{(k)}| = O(\\frac{|\\lambda_2|}{|\\lambda_1|}^k)$$"
   ]
  },
  {
   "cell_type": "markdown",
   "metadata": {},
   "source": [
    "Выпишем еще раз нашу матрицу:\n",
    "$$ \\Gamma = aM + \\frac{1 - a}{n} e e^T $$\n",
    "Мы знаем $|\\lambda_1| = 1$ (Perron eigenvalue). Также есть теорема, доказывающая, что\n",
    "$|\\lambda_2| \\le a$ для этой матрицы. Поэтому параметр $a$ создает \"зазор\" между собственными значениями этой матрицы и улучшает сходимость степенного метода для этой матрицы. Если выбирать большой $a$, то \"зазор\" будет уменьшаться и сходимость существенно ухудшаться.\n",
    "\n",
    "Все теоретические выкладки только подтверждаются вычислениями и графиками выше."
   ]
  },
  {
   "cell_type": "markdown",
   "metadata": {},
   "source": [
    "## Задача 3. Регуляризация"
   ]
  },
  {
   "cell_type": "markdown",
   "metadata": {},
   "source": [
    "### 1: Сгенерируйте случайную малоранговую матрицу $X$ $500 \\times 100$ ранга $10$\n",
    "\n",
    "### 2: Сгенерируйте случайный вектор $w$ размера $100$ и целевой вектор \n",
    "### $$ y = Xw + \\varepsilon, $$\n",
    "### где $\\varepsilon$ - вектор с элементами из нормального распределения с нулевым средним и дисперсией $0.01$. "
   ]
  },
  {
   "cell_type": "code",
   "execution_count": 46,
   "metadata": {
    "collapsed": true
   },
   "outputs": [],
   "source": [
    "%matplotlib inline\n",
    "import matplotlib.pyplot as plt\n",
    "import numpy as np\n",
    "from numpy.linalg import norm\n",
    "from sklearn import linear_model\n",
    "\n",
    "n_samples, n_features = 500, 100\n",
    "rank = 10\n",
    "\n",
    "XU = np.random.rand(rank, n_samples)\n",
    "XV = np.random.rand(rank, n_features)\n",
    "X = XU.T.dot(XV)\n",
    "\n",
    "w = np.random.rand(n_features, 1)\n",
    "\n",
    "Xw = X.dot(w)\n",
    "Xw1d = X.dot(w).ravel()\n",
    "\n",
    "# N(0, 0.01):\n",
    "eps = 0.1 * np.random.randn(n_samples, 1) + 0\n",
    "\n",
    "y = X.dot(w) + eps\n",
    "y1d = y.ravel()"
   ]
  },
  {
   "cell_type": "markdown",
   "metadata": {},
   "source": [
    "### 3: Сравните разреженность и точность решения, которое дают методы регуляризации рассмотренные на лекции. Сделайте вывод об их эффективности. Рассмотрите, как автоматический подбор параметра регуляризации, так и эвристический подбор. Сравните эффективность методов. \n"
   ]
  },
  {
   "cell_type": "code",
   "execution_count": 47,
   "metadata": {},
   "outputs": [
    {
     "name": "stdout",
     "output_type": "stream",
     "text": [
      "Lasso score(X, Xw):  0.991901517048  | Lasso score(X, Xw + eps):  0.991911519034\n",
      "|y - y_predict|:  46.251445379\n",
      "Nonzero in w:  10\n",
      "--------------------------------------------------------------------------------------\n",
      "CV Lasso score(X, Xw):  0.999996398099  | CV Lasso score(X, Xw + eps):  0.99997897401\n",
      "|y - y_predict|:  0.975414843122\n",
      "Nonzero in w:  20\n",
      "--------------------------------------------------------------------------------------\n",
      "Ridge score(X, Xw):  0.999999205715  | Ridge score(X, Xw + eps):  0.999981807897\n",
      "|y - y_predict|:  0.458048743699\n",
      "Nonzero in w:  100\n",
      "--------------------------------------------------------------------------------------\n",
      "CV Ridge score(X, Xw):  0.999999310792  | CV Ridge score(X, Xw + eps):  0.999981833066\n",
      "|y - y_predict|:  0.426676507125\n",
      "Nonzero in w:  100\n",
      "--------------------------------------------------------------------------------------\n",
      "ElasticNet score(X, Xw):  0.996839598199  | ElasticNet score(X, Xw + eps):  0.996846277423\n",
      "|y - y_predict|:  28.8931321093\n",
      "Nonzero in w:  100\n",
      "--------------------------------------------------------------------------------------\n"
     ]
    },
    {
     "name": "stderr",
     "output_type": "stream",
     "text": [
      "/home/andr/anaconda3/lib/python3.6/site-packages/sklearn/linear_model/coordinate_descent.py:491: ConvergenceWarning: Objective did not converge. You might want to increase the number of iterations. Fitting data with very small alpha may cause precision problems.\n",
      "  ConvergenceWarning)\n"
     ]
    },
    {
     "name": "stdout",
     "output_type": "stream",
     "text": [
      "CV ElasticNet score(X, Xw):  0.999983891698  | CV ElasticNet score(X, Xw + eps):  0.999968198156\n",
      "|y - y_predict|:  2.06275833764\n",
      "Nonzero in w:  84\n",
      "--------------------------------------------------------------------------------------\n"
     ]
    },
    {
     "name": "stderr",
     "output_type": "stream",
     "text": [
      "/home/andr/anaconda3/lib/python3.6/site-packages/sklearn/linear_model/coordinate_descent.py:491: ConvergenceWarning: Objective did not converge. You might want to increase the number of iterations. Fitting data with very small alpha may cause precision problems.\n",
      "  ConvergenceWarning)\n"
     ]
    }
   ],
   "source": [
    "# Compare different linear models\n",
    "\n",
    "clfLasso = linear_model.Lasso(alpha=1.0) # fit_intercept=False\n",
    "outLasso = clfLasso.fit(X, y1d) \n",
    "print(\"Lasso score(X, Xw): \", outLasso.score(X, Xw1d), \" | Lasso score(X, Xw + eps): \", outLasso.score(X, y1d)) \n",
    "print(\"|y - y_predict|: \", norm(outLasso.predict(X) - Xw1d, 2))\n",
    "print(\"Nonzero in w: \", np.count_nonzero(outLasso.coef_))\n",
    "print(\"--------------------------------------------------------------------------------------\")\n",
    "\n",
    "clfCVLasso = linear_model.LassoCV() \n",
    "outCVLasso = clfCVLasso.fit(X, y1d) \n",
    "print(\"CV Lasso score(X, Xw): \", outCVLasso.score(X, Xw1d), \" | CV Lasso score(X, Xw + eps): \", outCVLasso.score(X, y1d)) \n",
    "print(\"|y - y_predict|: \", norm(outCVLasso.predict(X) - Xw1d, 2))\n",
    "print(\"Nonzero in w: \", np.count_nonzero(outCVLasso.coef_))\n",
    "print(\"--------------------------------------------------------------------------------------\")\n",
    "\n",
    "clfRidge = linear_model.Ridge(alpha=1.0) \n",
    "outRidge = clfRidge.fit(X, y1d) \n",
    "print(\"Ridge score(X, Xw): \", outRidge.score(X, Xw1d), \" | Ridge score(X, Xw + eps): \", outRidge.score(X, y1d)) \n",
    "print(\"|y - y_predict|: \", norm(outRidge.predict(X) - Xw1d, 2))\n",
    "print(\"Nonzero in w: \", np.count_nonzero(outRidge.coef_))\n",
    "print(\"--------------------------------------------------------------------------------------\")\n",
    "\n",
    "clfCVRidge = linear_model.RidgeCV() \n",
    "outCVRidge = clfCVRidge.fit(X, y1d) \n",
    "print(\"CV Ridge score(X, Xw): \", outCVRidge.score(X, Xw1d), \" | CV Ridge score(X, Xw + eps): \", outCVRidge.score(X, y1d)) \n",
    "print(\"|y - y_predict|: \", norm(outCVRidge.predict(X) - Xw1d, 2))\n",
    "print(\"Nonzero in w: \", np.count_nonzero(outCVRidge.coef_))\n",
    "print(\"--------------------------------------------------------------------------------------\")\n",
    "\n",
    "clfEN = linear_model.ElasticNet(alpha=1.0, l1_ratio=0.1)\n",
    "outEN = clfEN.fit(X, y1d)\n",
    "print(\"ElasticNet score(X, Xw): \", outEN.score(X, Xw1d), \" | ElasticNet score(X, Xw + eps): \", outEN.score(X, y1d)) \n",
    "print(\"|y - y_predict|: \", norm(outEN.predict(X) - Xw1d, 2))\n",
    "print(\"Nonzero in w: \", np.count_nonzero(outEN.coef_))\n",
    "print(\"--------------------------------------------------------------------------------------\")\n",
    "\n",
    "clfCVEN = linear_model.ElasticNetCV()\n",
    "outCVEN = clfCVEN.fit(X, y1d)\n",
    "print(\"CV ElasticNet score(X, Xw): \", outCVEN.score(X, Xw1d), \" | CV ElasticNet score(X, Xw + eps): \", outCVEN.score(X, y1d)) \n",
    "print(\"|y - y_predict|: \", norm(outCVEN.predict(X) - Xw1d, 2))\n",
    "print(\"Nonzero in w: \", np.count_nonzero(outCVEN.coef_))\n",
    "print(\"--------------------------------------------------------------------------------------\")\n",
    "\n",
    "#clfHubber = linear_model.HuberRegressor()\n",
    "#outHubber = clfHubber.fit(X, y1d)\n"
   ]
  },
  {
   "cell_type": "markdown",
   "metadata": {},
   "source": [
    "Видно, что метод Ridge дает наибольшую точность и наибольшее количество ненулевых признаков. Это не очень хорошо, потому \n",
    "что метод сильно переобучивается.\n",
    "\n",
    "Метод Lasso наоборот, наихудшую точность среди всех и наименьшее количество ненулевых признаков. И ElasticNet среднее между Ridge и Lasso. \n",
    "\n",
    "Также из результатов видно, что автоматический подбор регуляризации (CV) ведет себя лучше, чем ручной."
   ]
  },
  {
   "cell_type": "markdown",
   "metadata": {},
   "source": [
    "### 4: Проведите аналогичный эксперимент, но на данных, в которых целевой вектор сгенерирован так, что он хорошо аппроксимируется как одним признаком, так и линейной комбинацией двух или трёх других признаков. Выделяют ли методы регуляризации подобные зависимости в данных? Почему?"
   ]
  },
  {
   "cell_type": "code",
   "execution_count": 48,
   "metadata": {},
   "outputs": [
    {
     "name": "stdout",
     "output_type": "stream",
     "text": [
      "nnz w:  1\n"
     ]
    }
   ],
   "source": [
    "# Generate\n",
    "\n",
    "AU = np.random.rand(rank, n_samples)\n",
    "AV = np.random.rand(rank, n_features)\n",
    "A = AU.T.dot(AV)\n",
    "\n",
    "wA = 0.0 * np.random.randn(n_features) \n",
    "for i in range(1):\n",
    "    wi = np.random.randint(n_features)\n",
    "    r = np.random.rand(1)[0]\n",
    "    wA[wi] = r\n",
    "\n",
    "print(\"nnz w: \", np.count_nonzero(wA))\n",
    "\n",
    "yA = A.dot(wA.reshape(n_features, 1))\n",
    "yA = yA.ravel()\n",
    "\n",
    "# N(0, 0.01):\n",
    "epsA = 0.1 * np.random.randn(n_samples) + 0\n",
    "yA_eps = yA + epsA\n"
   ]
  },
  {
   "cell_type": "code",
   "execution_count": 49,
   "metadata": {},
   "outputs": [
    {
     "name": "stdout",
     "output_type": "stream",
     "text": [
      "CV Lasso score(X, Xw):  0.999460792976  | CV Lasso score(X, Xw + eps):  0.961845392316\n",
      "Nonzero in w:  2\n",
      "--------------------------------------------------------------------------------------\n",
      "CV Ridge score(X, Xw):  0.999502588457  | CV Ridge score(X, Xw + eps):  0.962083713196\n",
      "Nonzero in w:  100\n",
      "--------------------------------------------------------------------------------------\n",
      "CV ElasticNet score(X, Xw):  0.999257922254  | CV ElasticNet score(X, Xw + eps):  0.961883936962\n",
      "Nonzero in w:  7\n",
      "--------------------------------------------------------------------------------------\n"
     ]
    }
   ],
   "source": [
    "clfCVLasso = linear_model.LassoCV() \n",
    "outCVLasso = clfCVLasso.fit(A, yA_eps) \n",
    "print(\"CV Lasso score(X, Xw): \", outCVLasso.score(A, yA), \" | CV Lasso score(X, Xw + eps): \", outCVLasso.score(A, yA_eps)) \n",
    "print(\"Nonzero in w: \", np.count_nonzero(outCVLasso.coef_))\n",
    "print(\"--------------------------------------------------------------------------------------\")\n",
    "\n",
    "clfCVRidge = linear_model.RidgeCV() \n",
    "outCVRidge = clfCVRidge.fit(A, yA_eps) \n",
    "print(\"CV Ridge score(X, Xw): \", outCVRidge.score(A, yA), \" | CV Ridge score(X, Xw + eps): \", outCVRidge.score(A, yA_eps)) \n",
    "print(\"Nonzero in w: \", np.count_nonzero(outCVRidge.coef_))\n",
    "print(\"--------------------------------------------------------------------------------------\")\n",
    "\n",
    "clfCVEN = linear_model.ElasticNetCV()\n",
    "outCVEN = clfCVEN.fit(A, yA_eps)\n",
    "print(\"CV ElasticNet score(X, Xw): \", outCVEN.score(A, yA), \" | CV ElasticNet score(X, Xw + eps): \", outCVEN.score(A, yA_eps)) \n",
    "print(\"Nonzero in w: \", np.count_nonzero(outCVEN.coef_))\n",
    "print(\"--------------------------------------------------------------------------------------\")"
   ]
  },
  {
   "cell_type": "markdown",
   "metadata": {},
   "source": [
    "Как видно из результатов, подобные зависимости хуже всего различает метод регуляризации Ridge. Методы Lasso и ElasticNet хорошо справляются с этой задачей."
   ]
  },
  {
   "cell_type": "markdown",
   "metadata": {},
   "source": [
    "### 5: Добавьте в сгенерированную выборку несколько (5-10) выбросов, то есть таких строк и соответствующих им значений в $y$, что они не подчиняются ранее заданному закону."
   ]
  },
  {
   "cell_type": "code",
   "execution_count": 50,
   "metadata": {
    "collapsed": true
   },
   "outputs": [],
   "source": [
    "# Create trash in y\n",
    "\n",
    "epsT = eps.copy()\n",
    "for i in range(10):\n",
    "    yi = np.random.randint(n_samples)\n",
    "    r = np.random.rand(1)[0]\n",
    "    epsT[yi] = 1000.0*r\n",
    "    #print('eps[{0}] = {1} turn to epsT[{0}] = {2}'.format(yi, eps[yi], epsT[yi]))\n",
    "    \n",
    "yT = X.dot(w) + epsT\n",
    "yT1d = yT.ravel()"
   ]
  },
  {
   "cell_type": "markdown",
   "metadata": {},
   "source": [
    "### 6: Проверьте как изменится точность решения задачи для ранее рассмотренных методов\n",
    "### 7: Сравните предыдущие методы регуляризации с [регуляризацией Huber'a](https://en.wikipedia.org/wiki/Huber_loss). Какой способ устойчивее к выбросам и почему?"
   ]
  },
  {
   "cell_type": "code",
   "execution_count": 51,
   "metadata": {},
   "outputs": [
    {
     "name": "stdout",
     "output_type": "stream",
     "text": [
      "Lasso score(X, Xw):  0.606224270412  | Lasso score(X, Xw + eps):  0.0723442937387\n",
      "|y - y_predict|:  322.513534981\n",
      "-------------------------------------------\n",
      "CV Lasso score(X, Xw):  0.637030817407  | CV Lasso score(X, Xw + eps):  0.0603636495803\n",
      "|y - y_predict|:  309.640920427\n",
      "-------------------------------------------\n",
      "Ridge score(X, Xw):  0.49772336892  | Ridge score(X, Xw + eps):  0.0736818823726\n",
      "|y - y_predict|:  364.246141025\n",
      "-------------------------------------------\n",
      "CV Ridge score(X, Xw):  0.512580528602  | CV Ridge score(X, Xw + eps):  0.0736615504109\n",
      "|y - y_predict|:  358.818569302\n",
      "-------------------------------------------\n",
      "ElasticNet score(X, Xw):  0.700826990613  | ElasticNet score(X, Xw + eps):  0.0680162080688\n",
      "|y - y_predict|:  281.11542614\n",
      "-------------------------------------------\n",
      "CV ElasticNet score(X, Xw):  0.675766740805  | CV ElasticNet score(X, Xw + eps):  0.0609657226362\n",
      "|y - y_predict|:  292.652510459\n",
      "-------------------------------------------\n",
      "Hubber score(X, Xw):  0.999999330919  | Hubber score(X, Xw + eps):  0.0431459411517\n",
      "|y - y_predict|:  0.420400025237\n",
      "-------------------------------------------\n"
     ]
    }
   ],
   "source": [
    "# What is better?\n",
    "\n",
    "clfLasso = linear_model.Lasso(alpha=1.0) \n",
    "outLasso = clfLasso.fit(X, yT1d) \n",
    "print(\"Lasso score(X, Xw): \", outLasso.score(X, Xw1d), \" | Lasso score(X, Xw + eps): \", outLasso.score(X, yT1d)) \n",
    "print(\"|y - y_predict|: \", norm(outLasso.predict(X) - Xw1d, 2))\n",
    "print(\"-------------------------------------------\")\n",
    "\n",
    "clfCVLasso = linear_model.LassoCV() \n",
    "outCVLasso = clfCVLasso.fit(X, yT1d) \n",
    "print(\"CV Lasso score(X, Xw): \", outCVLasso.score(X, Xw1d), \" | CV Lasso score(X, Xw + eps): \", outCVLasso.score(X, yT1d)) \n",
    "print(\"|y - y_predict|: \", norm(outCVLasso.predict(X) - Xw1d, 2))\n",
    "print(\"-------------------------------------------\")\n",
    "\n",
    "clfRidge = linear_model.Ridge(alpha=1.0) \n",
    "outRidge = clfRidge.fit(X, yT1d) \n",
    "print(\"Ridge score(X, Xw): \", outRidge.score(X, Xw1d), \" | Ridge score(X, Xw + eps): \", outRidge.score(X, yT1d)) \n",
    "print(\"|y - y_predict|: \", norm(outRidge.predict(X) - Xw1d, 2))\n",
    "print(\"-------------------------------------------\")\n",
    "\n",
    "clfCVRidge = linear_model.RidgeCV() \n",
    "outCVRidge = clfCVRidge.fit(X, yT1d) \n",
    "print(\"CV Ridge score(X, Xw): \", outCVRidge.score(X, Xw1d), \" | CV Ridge score(X, Xw + eps): \", outCVRidge.score(X, yT1d)) \n",
    "print(\"|y - y_predict|: \", norm(outCVRidge.predict(X) - Xw1d, 2))\n",
    "print(\"-------------------------------------------\")\n",
    "\n",
    "clfEN = linear_model.ElasticNet(alpha=1.0, l1_ratio=0.1)\n",
    "outEN = clfEN.fit(X, yT1d)\n",
    "print(\"ElasticNet score(X, Xw): \", outEN.score(X, Xw1d), \" | ElasticNet score(X, Xw + eps): \", outEN.score(X, yT1d)) \n",
    "print(\"|y - y_predict|: \", norm(outEN.predict(X) - Xw1d, 2))\n",
    "print(\"-------------------------------------------\")\n",
    "\n",
    "clfCVEN = linear_model.ElasticNetCV()\n",
    "outCVEN = clfCVEN.fit(X, yT1d)\n",
    "print(\"CV ElasticNet score(X, Xw): \", outCVEN.score(X, Xw1d), \" | CV ElasticNet score(X, Xw + eps): \", outCVEN.score(X, yT1d)) \n",
    "print(\"|y - y_predict|: \", norm(outCVEN.predict(X) - Xw1d, 2))\n",
    "print(\"-------------------------------------------\")\n",
    "\n",
    "clfHubber = linear_model.HuberRegressor()\n",
    "outHubber = clfHubber.fit(X, yT1d)\n",
    "print(\"Hubber score(X, Xw): \", outHubber.score(X, Xw1d), \" | Hubber score(X, Xw + eps): \", outHubber.score(X, yT1d)) \n",
    "print(\"|y - y_predict|: \", norm(outHubber.predict(X) - Xw1d, 2))\n",
    "print(\"-------------------------------------------\")"
   ]
  },
  {
   "cell_type": "markdown",
   "metadata": {},
   "source": [
    "Из результатов видно, что метод Hubber ведет себя устойчивее всех к выбросам."
   ]
  },
  {
   "cell_type": "markdown",
   "metadata": {
    "collapsed": true
   },
   "source": [
    "### 8: Получите аналитическое решение задачи\n",
    "### $$ \\min_w \\|Xw - y\\|^2_2 + \\| \\lambda \\odot w \\|^2_2, $$\n",
    "### где $\\lambda$ - вектор такой же размерности, что и $w$, $\\odot$ означает поэлементное умножение двух векторов"
   ]
  },
  {
   "cell_type": "markdown",
   "metadata": {},
   "source": [
    "Решение:\n",
    "\n",
    "$$ \\mathcal{L} = ||{Xw-y}^2|| + ||{\\lambda \\odot w}^2|| $$\n",
    "\n",
    "$$ \\nabla\\mathcal{L} = 2X^T(Xw-y) + 2\\lambda^2 \\odot w $$\n",
    "\n",
    "где $\\lambda^2 = \\lambda \\odot \\lambda$\n",
    "    \n",
    "$$\\nabla\\mathcal{L} = 0 \\Rightarrow$$\n",
    "\n",
    "$$ 2X^T(Xw-y) + 2\\lambda^2 \\odot w = 0 \\Rightarrow$$\n",
    "\n",
    "$$ (\\lambda^{-2} \\odot X^TX + I_n)w = \\lambda^{-2} \\odot X^Ty $$\n",
    "\n",
    "$$ w = (\\lambda^{-2} \\odot X^TX + I_n)^{-1}\\lambda^{-2} \\odot X^Ty $$\n",
    "\n",
    "\n"
   ]
  }
 ],
 "metadata": {
  "kernelspec": {
   "display_name": "Python 3",
   "language": "python",
   "name": "python3"
  },
  "language_info": {
   "codemirror_mode": {
    "name": "ipython",
    "version": 3
   },
   "file_extension": ".py",
   "mimetype": "text/x-python",
   "name": "python",
   "nbconvert_exporter": "python",
   "pygments_lexer": "ipython3",
   "version": "3.6.2"
  }
 },
 "nbformat": 4,
 "nbformat_minor": 2
}
